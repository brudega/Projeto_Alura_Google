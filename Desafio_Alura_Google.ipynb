{
  "nbformat": 4,
  "nbformat_minor": 0,
  "metadata": {
    "colab": {
      "provenance": [],
      "authorship_tag": "ABX9TyOR/4HWwPDjpFYuNcH03NsE",
      "include_colab_link": true
    },
    "kernelspec": {
      "name": "python3",
      "display_name": "Python 3"
    },
    "language_info": {
      "name": "python"
    }
  },
  "cells": [
    {
      "cell_type": "markdown",
      "metadata": {
        "id": "view-in-github",
        "colab_type": "text"
      },
      "source": [
        "<a href=\"https://colab.research.google.com/github/brudega/Projeto_Alura_Google/blob/main/Desafio_Alura_Google.ipynb\" target=\"_parent\"><img src=\"https://colab.research.google.com/assets/colab-badge.svg\" alt=\"Open In Colab\"/></a>"
      ]
    },
    {
      "cell_type": "markdown",
      "source": [
        "Instalando o SDK do Google"
      ],
      "metadata": {
        "id": "rOrGUG9EvMy8"
      }
    },
    {
      "cell_type": "code",
      "execution_count": 1,
      "metadata": {
        "id": "3ZgwGLtWnwLB"
      },
      "outputs": [],
      "source": [
        "!pip install -q google-generativeai"
      ]
    },
    {
      "cell_type": "markdown",
      "source": [
        "Importando Bibliotecas e setanto o API_KEY"
      ],
      "metadata": {
        "id": "lO5uTzVgvQXH"
      }
    },
    {
      "cell_type": "code",
      "source": [
        "import google.generativeai as genai\n",
        "\n",
        "from google.colab import userdata\n",
        "api_google = userdata.get('api_google')\n",
        "\n",
        "GOOGLE_API_KEY=api_google\n",
        "genai.configure(api_key=GOOGLE_API_KEY)\n"
      ],
      "metadata": {
        "id": "mLuv41GgnzRN"
      },
      "execution_count": 2,
      "outputs": []
    },
    {
      "cell_type": "markdown",
      "source": [
        "Define as configurações do modelo e configurações de segurança"
      ],
      "metadata": {
        "id": "FX8kbyoavQ1C"
      }
    },
    {
      "cell_type": "code",
      "source": [
        "generation_config = {\n",
        "    \"candidate_count\": 1,\n",
        "    \"temperature\": 0.5,\n",
        "}\n",
        "\n",
        "safety_settings = {\n",
        "    \"HARASSMENT\": \"BLOCK_NONE\",\n",
        "    \"HATE\": \"BLOCK_NONE\",\n",
        "    \"SEXUAL\": \"BLOCK_NONE\",\n",
        "    \"DANGEROUS\": \"BLOCK_NONE\",\n",
        "}"
      ],
      "metadata": {
        "id": "FDmtnxqYn1eN"
      },
      "execution_count": 3,
      "outputs": []
    },
    {
      "cell_type": "markdown",
      "source": [
        "Instancia o modelo"
      ],
      "metadata": {
        "id": "x0WHNlI8vRXQ"
      }
    },
    {
      "cell_type": "code",
      "source": [
        "model = genai.GenerativeModel(model_name=\"gemini-1.0-pro\",\n",
        "                              generation_config= generation_config,\n",
        "                              safety_settings= safety_settings\n",
        "                              )\n",
        "\n",
        "chat = model.start_chat(history=[])"
      ],
      "metadata": {
        "id": "u9Lerhexn6Dm"
      },
      "execution_count": 4,
      "outputs": []
    },
    {
      "cell_type": "markdown",
      "source": [
        "Definição das informações"
      ],
      "metadata": {
        "id": "DHiTs_2pvSAa"
      }
    },
    {
      "cell_type": "code",
      "source": [
        "# Definição das informações do usuário\n",
        "\n",
        "print(\"Olá, Estou aqui para trazer informações sobre (IMC) - Índice de Massa Corporal.\" ,'\\n',\" Responda algumas perguntas e obtenha dicas.\" , '\\n')\n",
        "peso = input(\"Peso:\")\n",
        "altura = input(\"Altura:\")\n",
        "idade = input(\"Idade:\")\n",
        "\n",
        "prompt = f\"\"\"Informe o IMC, grau de obesidade, risco a saúde e crie uma sugestão de dieta para uma pessoa com as carctetisticas abaixo:\n",
        "\n",
        "Peso em Kg: {peso}\n",
        "Altura em metros: {altura}\n",
        "Idade: {idade}\n",
        "\"\"\"\n",
        "\n",
        "print('\\n', 'Resposta do modelo:', '\\n')\n",
        "\n",
        "# Faz a consulta à API e armazena a resposta\n",
        "resposta = chat.send_message(prompt)\n",
        "\n",
        "# Exibe a resposta em tela\n",
        "print(\"Resposta: \",resposta.text, \"\\n\")\n",
        "\n",
        "# Abre um chat para mais dúvidas\n",
        "prompt = input(\"Posso ajudar com mais alguma informação? Me pergunte ou digite 'sair':\")\n",
        "\n",
        "print('----------------------------------------------------------------------------------')\n",
        "\n",
        "while prompt != \"sair\":\n",
        "  response = chat.send_message(prompt)\n",
        "  print(\"Resposta: \",response.text, \"\\n\")\n",
        "  prompt = input(\"Posso ajudar com mais alguma informação? Me pergunte ou digite 'sair':\")\n",
        "\n",
        "print('----------------------------------------------------------------------------------')\n",
        "\n",
        "if prompt == \"sair\":\n",
        "  response = model.generate_content(\"Crie uma frase motivacional para esta pessoa não desistir da dieta.\")\n",
        "  print(response.text, \"\\n\" , \"\\n\" ,\"SUCESSO COM SEU OBJETIVO.\" )\n",
        "\n"
      ],
      "metadata": {
        "id": "QrRdz9LOn9NH",
        "colab": {
          "base_uri": "https://localhost:8080/",
          "height": 1000
        },
        "outputId": "1b6c9fb4-3916-4b5b-ea0a-ef9728004120"
      },
      "execution_count": 8,
      "outputs": [
        {
          "output_type": "stream",
          "name": "stdout",
          "text": [
            "Olá, Estou aqui para trazer informações sobre (IMC) - Índice de Massa Corporal. \n",
            "  Responda algumas perguntas e obtenha dicas. \n",
            "\n",
            "Peso:114\n",
            "Altura:1,80\n",
            "Idade:41\n",
            "\n",
            " Resposta do modelo: \n",
            "\n",
            "Resposta:  **Cálculo do IMC:**\n",
            "\n",
            "IMC = Peso (kg) / Altura (m)²\n",
            "IMC = 114 kg / (1,80 m)²\n",
            "IMC = 35,2\n",
            "\n",
            "**Grau de Obesidade:**\n",
            "\n",
            "IMC 35,2 é classificado como **Obesidade Grau II**\n",
            "\n",
            "**Risco à Saúde:**\n",
            "\n",
            "A obesidade grau II aumenta significativamente o risco de desenvolver problemas de saúde graves, incluindo:\n",
            "\n",
            "* Doenças cardiovasculares\n",
            "* Diabetes tipo 2\n",
            "* Acidente vascular cerebral\n",
            "* Câncer\n",
            "* Apneia do sono\n",
            "\n",
            "**Sugestão de Dieta:**\n",
            "\n",
            "**Objetivo Calórico:**\n",
            "\n",
            "Para perder peso com segurança e eficácia, o objetivo calórico deve ser de 1.600-1.800 calorias por dia.\n",
            "\n",
            "**Distribuição de Macronutrientes:**\n",
            "\n",
            "* Proteínas: 20-25% das calorias (120-150g)\n",
            "* Carboidratos: 45-50% das calorias (200-250g)\n",
            "* Gorduras: 25-30% das calorias (40-60g)\n",
            "\n",
            "**Alimentos Recomendados:**\n",
            "\n",
            "* Frutas e vegetais: 5 porções por dia\n",
            "* Grãos integrais: arroz integral, quinoa, aveia\n",
            "* Proteínas magras: frango, peixe, feijão, lentilha\n",
            "* Gorduras saudáveis: azeite, abacate, nozes\n",
            "* Laticínios com baixo teor de gordura: leite, iogurte\n",
            "\n",
            "**Alimentos a Evitar:**\n",
            "\n",
            "* Alimentos processados e embalados\n",
            "* Bebidas açucaradas\n",
            "* Alimentos fritos e gordurosos\n",
            "* Doces e sobremesas\n",
            "* Álcool em excesso\n",
            "\n",
            "**Exemplo de Plano de Refeições:**\n",
            "\n",
            "**Café da Manhã (350 calorias)**\n",
            "\n",
            "* 1 xícara de aveia com 1/2 xícara de frutas vermelhas e 1/4 xícara de nozes\n",
            "* 1 xícara de chá ou café\n",
            "\n",
            "**Almoço (450 calorias)**\n",
            "\n",
            "* Salada com 1 xícara de alface, 1/2 xícara de frango grelhado, 1/2 xícara de tomate, 1/4 xícara de cebola e 2 colheres de sopa de vinagrete\n",
            "* 1 fatia de pão integral\n",
            "\n",
            "**Lanches (200 calorias)**\n",
            "\n",
            "* 1 maçã com 1 colher de sopa de manteiga de amendoim\n",
            "* 1 iogurte grego com 1/4 xícara de frutas vermelhas\n",
            "\n",
            "**Jantar (500 calorias)**\n",
            "\n",
            "* 150g de salmão grelhado com 1 xícara de brócolis cozido no vapor e 1/2 xícara de arroz integral\n",
            "* 1 copo de água\n",
            "\n",
            "**Ceia (100 calorias)**\n",
            "\n",
            "* 1 xícara de chá de camomila com 1 colher de chá de mel\n",
            "\n",
            "**Observações:**\n",
            "\n",
            "* Beba bastante água ao longo do dia.\n",
            "* Faça exercícios regularmente por pelo menos 150 minutos por semana.\n",
            "* Consulte um profissional de saúde ou nutricionista para orientação personalizada. \n",
            "\n",
            "Posso ajudar com mais alguma informação? Me pergunte ou digite 'sair':Quais atividads físicas recomendadas para perda de peso?\n",
            "----------------------------------------------------------------------------------\n",
            "Resposta:  **Atividades Aeróbicas:**\n",
            "\n",
            "* Caminhada\n",
            "* Corrida\n",
            "* Natação\n",
            "* Ciclismo\n",
            "* Dança\n",
            "* Elíptico\n",
            "* Remo\n",
            "\n",
            "**Atividades de Força:**\n",
            "\n",
            "* Treinamento com pesos\n",
            "* Flexões\n",
            "* Agachamentos\n",
            "* Prancha\n",
            "* Ponte\n",
            "* Extensão de perna\n",
            "\n",
            "**Atividades Flexíveis:**\n",
            "\n",
            "* Ioga\n",
            "* Pilates\n",
            "* Tai chi\n",
            "* Alongamento\n",
            "\n",
            "**Atividades Recreativas:**\n",
            "\n",
            "* Esportes coletivos (futebol, basquete, vôlei)\n",
            "* Caminhadas na natureza\n",
            "* Jardinagem\n",
            "* Dança de salão\n",
            "\n",
            "**Outras Atividades:**\n",
            "\n",
            "* Subir escadas\n",
            "* Limpeza da casa\n",
            "* Trabalhos manuais\n",
            "* Brincar com crianças ou animais de estimação\n",
            "\n",
            "**Recomendações Gerais:**\n",
            "\n",
            "* Adultos devem praticar pelo menos 150 minutos de atividade aeróbica de intensidade moderada ou 75 minutos de atividade aeróbica de intensidade vigorosa por semana.\n",
            "* Atividades de fortalecimento muscular devem ser realizadas pelo menos duas vezes por semana.\n",
            "* Procure atividades que desafiem você sem causar dor ou desconforto.\n",
            "* Comece gradualmente e aumente a intensidade e a duração das atividades ao longo do tempo.\n",
            "* Ouça seu corpo e descanse quando necessário. \n",
            "\n",
            "Posso ajudar com mais alguma informação? Me pergunte ou digite 'sair':sair\n",
            "----------------------------------------------------------------------------------\n",
            "Cada passo que você dá, por menor que seja, aproxima você de seu objetivo. Não desista da jornada, pois cada esforço vale a pena no caminho para uma vida mais saudável. \n",
            " \n",
            " SUCESSO COM SEU OBJETIVO.\n"
          ]
        }
      ]
    }
  ]
}